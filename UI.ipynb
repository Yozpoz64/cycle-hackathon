{
 "cells": [
  {
   "cell_type": "code",
   "execution_count": 1,
   "metadata": {},
   "outputs": [],
   "source": [
    "import pandas as pd\n",
    "import geopandas as gpd\n",
    "import folium\n",
    "from ipyleaflet import *                       \n",
    "from ipywidgets import *     \n",
    "from IPython.display import display"
   ]
  },
  {
   "cell_type": "code",
   "execution_count": 2,
   "metadata": {},
   "outputs": [
    {
     "data": {
      "application/vnd.jupyter.widget-view+json": {
       "model_id": "dcabfa3479cc420395879f9c52a9649a",
       "version_major": 2,
       "version_minor": 0
      },
      "text/plain": [
       "Box(children=(HBox(children=(HTML(value='Profile:'), Dropdown(layout=Layout(width='100%'), options=('I cycle a…"
      ]
     },
     "metadata": {},
     "output_type": "display_data"
    }
   ],
   "source": [
    "fitness = widgets.Dropdown(\n",
    "            options=['I cycle all the time', 'I cycle every now and then', \"I'm new to cycling, go easy!\"],\n",
    "            disabled=False,\n",
    "            layout={'width': '100%'})\n",
    "fitness = HBox([HTML('Profile:'), fitness])\n",
    "safety = widgets.Dropdown(\n",
    "            options=['Slow and Easy', 'Balanced', 'Most Direct'],\n",
    "            disabled=False,\n",
    "            layout={'width': '100%'})\n",
    "safety = HBox([HTML('Speed:'), safety])\n",
    "traffic = widgets.Dropdown(\n",
    "            options=[\"I don't mind traffic!\", 'I prefer less traffic', 'No cars at all please!'],\n",
    "            disabled=False,\n",
    "            layout={'width': '100%'})\n",
    "traffic = HBox([HTML('Traffic:'), traffic])\n",
    "hills = widgets.Dropdown(\n",
    "            options=[\"Keep it flat\", 'A mix of hills and flat would be nice', \"Lots of hills\"],\n",
    "            disabled=False,\n",
    "            layout={'width': '100%'})\n",
    "hills = HBox([HTML('Hills:'), hills])\n",
    "\n",
    "cafe = widgets.Checkbox(\n",
    "    value=False,\n",
    "    description='Include Cafe',\n",
    "    indent=False\n",
    ")\n",
    "water = widgets.Checkbox(\n",
    "    value=False,\n",
    "    description='Include Water Fountain',\n",
    "    indent=False\n",
    ")\n",
    "submit = widgets.Button(description='Calculate Route')\n",
    "\n",
    "box_layout = Layout(display='span',\n",
    "                    flex_flow='column',\n",
    "                    align_items='stretch',\n",
    "                    width='50%')\n",
    "box = Box(children=[fitness, safety, traffic, hills, cafe, water, submit], layout=box_layout)\n",
    "box\n",
    "#display(VBox([fitness, water, cafe, submit]))"
   ]
  },
  {
   "cell_type": "code",
   "execution_count": null,
   "metadata": {},
   "outputs": [],
   "source": []
  }
 ],
 "metadata": {
  "kernelspec": {
   "display_name": "Python 3",
   "language": "python",
   "name": "python3"
  },
  "language_info": {
   "codemirror_mode": {
    "name": "ipython",
    "version": 3
   },
   "file_extension": ".py",
   "mimetype": "text/x-python",
   "name": "python",
   "nbconvert_exporter": "python",
   "pygments_lexer": "ipython3",
   "version": "3.8.3"
  }
 },
 "nbformat": 4,
 "nbformat_minor": 5
}
