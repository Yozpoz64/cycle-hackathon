{
 "cells": [
  {
   "cell_type": "markdown",
   "metadata": {},
   "source": [
    "# Geospatial Cyclists"
   ]
  },
  {
   "cell_type": "code",
   "execution_count": 1,
   "metadata": {},
   "outputs": [
    {
     "name": "stdout",
     "output_type": "stream",
     "text": [
      "hello, world!\n"
     ]
    }
   ],
   "source": [
    "print('hello, world!')"
   ]
  },
  {
   "cell_type": "code",
   "execution_count": 2,
   "metadata": {},
   "outputs": [],
   "source": [
    "import pandas as pd\n",
    "import geopandas as gpd\n",
    "import folium\n",
    "from ipyleaflet import *                       \n",
    "from ipywidgets import *     \n",
    "from IPython.display import display\n",
    "\n",
    "Final = False"
   ]
  },
  {
   "cell_type": "code",
   "execution_count": 13,
   "metadata": {
    "scrolled": false
   },
   "outputs": [
    {
     "data": {
      "application/vnd.jupyter.widget-view+json": {
       "model_id": "5f788cf9f9754284b34fb339cfb4d50f",
       "version_major": 2,
       "version_minor": 0
      },
      "text/plain": [
       "Map(center=[-36.89933304214278, 174.7803547802036], controls=(ZoomControl(options=['position', 'zoom_in_text',…"
      ]
     },
     "metadata": {},
     "output_type": "display_data"
    }
   ],
   "source": [
    "Location = (-36.85, 174.76)\n",
    "ZOOM = 4\n",
    "\n",
    "base = Map(center=Location, zoom=13, control_scale=True,\n",
    "           basemap=basemaps.CartoDB.Positron)\n",
    "\n",
    "if Final:\n",
    "    base.layout.width = '1125px'\n",
    "    base.layout.height = '2436px'\n",
    "    \n",
    "else:\n",
    "    base.layout.width = '750px'\n",
    "    base.layout.height = '1624px'\n",
    "\n",
    "def handle_map_interaction(**kwargs):\n",
    "   # markerU = CircleMarker(location=(0,0), draggable=True, visible = False)\n",
    "   # m.add_layer(markerU)\n",
    "    #m.add_layer(markerU)\n",
    "    #print(kwargs)\n",
    "\n",
    "    if kwargs['type'] == 'click':\n",
    "\n",
    "        NLoc =  kwargs['coordinates']\n",
    "        \n",
    "        print(NLoc)\n",
    "\n",
    "base.on_interaction(handle_map_interaction)\n",
    "\n",
    "selDf = gpd.read_file('./Data/SA2_Trimmed/1.shp')\n",
    "\n",
    "\n",
    "geoDf = selDf.to_crs(4326)\n",
    "lonCent = (geoDf.bounds.maxx + geoDf.bounds.minx).mean()/2\n",
    "latCent = (geoDf.bounds.maxy + geoDf.bounds.miny).mean()/2\n",
    "\n",
    "base.center = (latCent,lonCent)\n",
    "geoData = GeoData(geo_dataframe=geoDf, name='NZ SA2 FW')\n",
    "\n",
    "base.add_layer(geoData)\n",
    "\n",
    "\n",
    "control = LayersControl(position='topright')\n",
    "base.add_control(control)\n",
    "\n",
    "\n",
    "base"
   ]
  },
  {
   "cell_type": "code",
   "execution_count": 10,
   "metadata": {
    "scrolled": false
   },
   "outputs": [
    {
     "data": {
      "text/plain": [
       "array([['100100', 'North Cape', '10', '1134', '1602'],\n",
       "       ['100200', 'Rangaunu Harbour', '9', '1105', '2310'],\n",
       "       ['100300', 'Inlets Far North District', '7', '1031', '45'],\n",
       "       ...,\n",
       "       ['400014', 'Oceanic Antipodes Islands', '', '', '0'],\n",
       "       ['400015', 'Antipodes Islands', '', '', '0'],\n",
       "       ['400016', 'Ross Dependency', '', '', '0']], dtype='<U44')"
      ]
     },
     "execution_count": 10,
     "metadata": {},
     "output_type": "execute_result"
    }
   ],
   "source": [
    "import numpy as np\n",
    "\n",
    "DepData = np.genfromtxt('./Data/SA2D.csv', skip_header= 1, delimiter = ',',dtype = str)\n",
    "\n",
    "DepData"
   ]
  },
  {
   "cell_type": "code",
   "execution_count": 11,
   "metadata": {},
   "outputs": [
    {
     "ename": "AttributeError",
     "evalue": "'Map' object has no attribute 'list_features'",
     "output_type": "error",
     "traceback": [
      "\u001b[0;31m---------------------------------------------------------------------------\u001b[0m",
      "\u001b[0;31mAttributeError\u001b[0m                            Traceback (most recent call last)",
      "\u001b[0;32m<ipython-input-11-0ec174b933d3>\u001b[0m in \u001b[0;36m<module>\u001b[0;34m\u001b[0m\n\u001b[0;32m----> 1\u001b[0;31m \u001b[0mbase\u001b[0m\u001b[0;34m.\u001b[0m\u001b[0mlist_features\u001b[0m\u001b[0;34m\u001b[0m\u001b[0;34m\u001b[0m\u001b[0m\n\u001b[0m",
      "\u001b[0;31mAttributeError\u001b[0m: 'Map' object has no attribute 'list_features'"
     ]
    }
   ],
   "source": [
    "base.list_features"
   ]
  },
  {
   "cell_type": "code",
   "execution_count": null,
   "metadata": {},
   "outputs": [],
   "source": [
    "# potential layers to add\n",
    "# pavement condition\n",
    "# traffic flow"
   ]
  },
  {
   "cell_type": "code",
   "execution_count": null,
   "metadata": {},
   "outputs": [],
   "source": [
    "fitness = widgets.Dropdown(\n",
    "            options=['I cycle all the time', 'I cycle every now and then', \"I'm new to cycling, go easy!\"],\n",
    "            disabled=False,\n",
    "            layout={'width': '30%'})\n",
    "cafe = widgets.Checkbox(\n",
    "    value=False,\n",
    "    description='Include Cafe',\n",
    "    indent=False\n",
    ")\n",
    "water = widgets.Checkbox(\n",
    "    value=False,\n",
    "    description='Include Water Fountain',\n",
    "    indent=False\n",
    ")\n",
    "submit = widgets.Button(description='Submit')\n",
    "\n",
    "display(VBox([fitness, water, cafe, submit]))"
   ]
  },
  {
   "cell_type": "code",
   "execution_count": null,
   "metadata": {},
   "outputs": [],
   "source": [
    "'''\n",
    "MAP 2: Deprivation Index by SA2\n",
    "-get deprivation index data from postgis\n",
    "-create choropleth map\n",
    "-add popups to show underlying data (parsed as geojson)\n",
    "'''\n",
    "# sql query to get table created above\n",
    "sql = 'SELECT * FROM chch_depindex_sa2'\n",
    "\n",
    "# add table as geodataframe, remove nulls if available (shouldn't be, this step may be redundant but have had issues, so have left in)\n",
    "depindex_gdf = gpd.GeoDataFrame.from_postgis(sql, engine, geom_col='geometry', crs=CRS)\n",
    "depindex_gdf.dropna(how='any', axis=0, inplace=True)\n",
    "\n",
    "# create folium map, centre based on constants\n",
    "depindex_m = folium.Map(location=CHCH, zoom_start=DEFAULT_ZOOM, tiles=None, control_scale=True)\n",
    "\n",
    "# add choropleth layer to map\n",
    "depindex_m.choropleth(geo_data=depindex_gdf,                                     # geometry df\n",
    "                      name='Degrees of Deprivation',                             # layer name\n",
    "                      data=depindex_gdf,                                         # data df\n",
    "                      columns=['sa2_code_2018', 'depindex_score_2018'],          # columns of interest\n",
    "                      key_on='feature.properties.sa2_code_2018',                 # key to join geom with data\n",
    "                      fill_color='RdPu',                                         # colour gradient\n",
    "                      fill_opacity=0.8,                                          # make slightly transparent\n",
    "                      line_opacity=0.2,                                          # make lines thinly transparent\n",
    "                      legend_name='Degree of Socioeconomic Deprivation (2018)',  # name on legend\n",
    "                      smooth_factor=0)                                           # smoothing of polylines\n",
    "\n",
    "# style and highlight functions\n",
    "# changes fill colour and properties when selected, serializable dictionary for both\n",
    "style_function = lambda x: {'fillColor': '#ffffff', 'color':'#000000', 'fillOpacity': 0.1, 'weight': 0.1}\n",
    "highlight_function = lambda x: {'fillColor': '#000000', 'color':'#000000', 'fillOpacity': 0.50, 'weight': 0.1}\n",
    "\n",
    "# create popup from folium features added in choropleth. use style and highlight functions above\n",
    "# use data from geojson parsing of geodataframe to get other table information when sa2 area is highlighted\n",
    "popup_info = folium.features.GeoJson(\n",
    "            depindex_gdf, \n",
    "            style_function=style_function, \n",
    "            control=False,\n",
    "            highlight_function=highlight_function, \n",
    "            tooltip=folium.features.GeoJsonTooltip(\n",
    "                fields=['sa2_code_2018', 'sa2_name', 'depindex_score_2018'],\n",
    "                aliases=['Meshblock ID: ', 'Name: ', 'Deprivation Index Score: '],\n",
    "                style=(\"background-color: white; color: #333333; font-family: arial; font-size: 12px; padding: 10px;\")))\n",
    "\n",
    "# add popup info as child to map, keep in front of other elements\n",
    "depindex_m.add_child(popup_info)\n",
    "depindex_m.keep_in_front(popup_info)\n",
    "\n",
    "# add basemap, layer control\n",
    "folium.TileLayer('stamenterrain').add_to(depindex_m)\n",
    "folium.LayerControl().add_to(depindex_m)\n",
    "\n",
    "# display map\n",
    "depindex_m"
   ]
  },
  {
   "cell_type": "code",
   "execution_count": null,
   "metadata": {},
   "outputs": [],
   "source": []
  }
 ],
 "metadata": {
  "kernelspec": {
   "display_name": "Python 3",
   "language": "python",
   "name": "python3"
  },
  "language_info": {
   "codemirror_mode": {
    "name": "ipython",
    "version": 3
   },
   "file_extension": ".py",
   "mimetype": "text/x-python",
   "name": "python",
   "nbconvert_exporter": "python",
   "pygments_lexer": "ipython3",
   "version": "3.8.3"
  }
 },
 "nbformat": 4,
 "nbformat_minor": 5
}
